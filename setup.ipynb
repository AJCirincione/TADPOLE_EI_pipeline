{
 "cells": [
  {
   "cell_type": "code",
   "execution_count": 2,
   "metadata": {},
   "outputs": [],
   "source": [
    "# Import packages\n",
    "import os\n",
    "import shutil\n",
    "import subprocess"
   ]
  },
  {
   "cell_type": "markdown",
   "metadata": {},
   "source": [
    "# Initialize necessary file structure"
   ]
  },
  {
   "cell_type": "code",
   "execution_count": 3,
   "metadata": {},
   "outputs": [],
   "source": [
    "root_dir = os.getcwd()\n",
    "data_dir = os.path.join(root_dir, 'data')\n",
    "processed_dir = os.path.join(data_dir, 'processed')\n",
    "raw_dir = os.path.join(data_dir, 'raw')\n",
    "output_dir = os.path.join(root_dir, 'output')\n",
    "figures_dir = os.path.join(output_dir, 'figures')\n",
    "tables_dir = os.path.join(output_dir, 'tables')\n",
    "src_dir = os.path.join(root_dir, 'src')\n",
    "\n",
    "folders_to_create = [data_dir, processed_dir, raw_dir, output_dir, figures_dir, tables_dir]\n",
    "\n",
    "for folder in folders_to_create:\n",
    "    if not os.path.exists(folder):\n",
    "        os.makedirs(folder)"
   ]
  },
  {
   "cell_type": "markdown",
   "metadata": {},
   "source": [
    "*** Insert TADPOLE_D1_D2.csv and TADPOLE_D1_D2_Dict.csv into 'data/raw' before continuing ***\n",
    "\n",
    "# Process TADPOLE data"
   ]
  },
  {
   "cell_type": "code",
   "execution_count": null,
   "metadata": {},
   "outputs": [],
   "source": [
    "python_files = ['src/tadpole_process_baseline.py', 'src/tadpole_process_train_test.py', 'src/tadpole_process_imptn_norm.py']\n",
    "\n",
    "for python_file in python_files:\n",
    "    file_path = os.path.join(python_file)\n",
    "    if os.path.exists(file_path):\n",
    "        print(f\"Running {python_file}...\")\n",
    "        subprocess.run(['python', python_file])\n",
    "\n",
    "print(\"Processing complete\")"
   ]
  }
 ],
 "metadata": {
  "kernelspec": {
   "display_name": "base",
   "language": "python",
   "name": "python3"
  },
  "language_info": {
   "codemirror_mode": {
    "name": "ipython",
    "version": 3
   },
   "file_extension": ".py",
   "mimetype": "text/x-python",
   "name": "python",
   "nbconvert_exporter": "python",
   "pygments_lexer": "ipython3",
   "version": "3.9.12"
  }
 },
 "nbformat": 4,
 "nbformat_minor": 2
}
